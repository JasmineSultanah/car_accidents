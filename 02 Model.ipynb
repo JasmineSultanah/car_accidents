{
 "cells": [
  {
   "cell_type": "markdown",
   "metadata": {},
   "source": [
    "## Introduction\n",
    "In this model we will train 3 different models to predict whether a police officer will attend an accident. The notebook is structured as follows:\n",
    "1. Run data preparation. This manipulates the train data to have features engineered in 01 EDA.ipynb\n",
    "2. Split data into train and test sets\n",
    "3. Define functions used for model training. model_udf runs Grid Search CV on the model you input with parameters inputted. Plot cross val, plots the ROC AUC at different parameters for the train and test set. Plot_auc plots the ROC curve \n",
    "4. Train a KNN model using longitude and latitude and a few other top features. The parameter tuned is number of neighbours.\n",
    "5. Train an XGB model tuning the learning rate\n",
    "6. Train a logistic regression model tuning L2 regularisation\n",
    "7. Run data prep on the test set and make predictions using the chosen model\n"
   ]
  },
  {
   "cell_type": "markdown",
   "metadata": {},
   "source": [
    "## Import packages"
   ]
  },
  {
   "cell_type": "code",
   "execution_count": 1,
   "metadata": {},
   "outputs": [],
   "source": [
    "import pandas as pd\n",
    "import numpy as np\n",
    "\n",
    "import matplotlib.pyplot as plt\n",
    "\n",
    "from sklearn.neighbors import KNeighborsClassifier\n",
    "from sklearn.pipeline import Pipeline\n",
    "from sklearn.compose import ColumnTransformer\n",
    "from sklearn.preprocessing import StandardScaler, OneHotEncoder\n",
    "from sklearn.impute import SimpleImputer\n",
    "from sklearn.model_selection import GridSearchCV\n",
    "from sklearn.metrics import classification_report\n",
    "from sklearn.ensemble import RandomForestClassifier\n",
    "from sklearn.model_selection import train_test_split\n",
    "\n",
    "from sklearn.neighbors import KNeighborsClassifier\n",
    "from xgboost import XGBClassifier\n",
    "from sklearn.linear_model import LogisticRegression\n",
    "\n",
    "from sklearn.metrics import roc_auc_score\n",
    "\n",
    "import data_prep2 as dp\n",
    "\n",
    "pd.set_option('display.max_columns', 500)"
   ]
  },
  {
   "cell_type": "code",
   "execution_count": 2,
   "metadata": {},
   "outputs": [],
   "source": [
    "# import sklearn\n",
    "# import xgboost\n",
    "# print(\"sklearn==\"+sklearn.__version__)\n",
    "# print(\"xgboost==\"+xgboost.__version__)"
   ]
  },
  {
   "cell_type": "code",
   "execution_count": 3,
   "metadata": {},
   "outputs": [
    {
     "name": "stderr",
     "output_type": "stream",
     "text": [
      "/opt/conda/lib/python3.7/site-packages/IPython/core/interactiveshell.py:3337: DtypeWarning: Columns (31) have mixed types.Specify dtype option on import or set low_memory=False.\n",
      "  if (await self.run_code(code, result,  async_=asy)):\n"
     ]
    },
    {
     "name": "stdout",
     "output_type": "stream",
     "text": [
      "Police_Force\n",
      "(138660, 32)\n",
      "Accident_Severity\n",
      "(138660, 32)\n",
      "Day_of_Week\n",
      "(138660, 32)\n",
      "Local_Authority_(District)\n",
      "(138660, 32)\n",
      "Local_Authority_(Highway)\n",
      "(138660, 32)\n",
      "1st_Road_Class\n",
      "(138660, 32)\n",
      "Road_Type\n",
      "(138660, 32)\n",
      "Junction_Detail\n",
      "(138660, 32)\n",
      "Junction_Control\n",
      "(138660, 32)\n",
      "2nd_Road_Class\n",
      "(138660, 32)\n",
      "Light_Conditions\n",
      "(138660, 32)\n",
      "Weather\n",
      "(138660, 32)\n",
      "Road_Surface\n",
      "(138660, 32)\n",
      "Special_Conditions_at_Site\n",
      "(138660, 32)\n",
      "Carriageway_Hazards\n",
      "(138660, 32)\n",
      "Urban_Rural\n",
      "(138660, 32)\n",
      "Police_Officer_Attend\n",
      "(138660, 32)\n"
     ]
    },
    {
     "name": "stderr",
     "output_type": "stream",
     "text": [
      "/opt/conda/lib/python3.7/site-packages/pyproj/crs/crs.py:68: FutureWarning: '+init=<authority>:<code>' syntax is deprecated. '<authority>:<code>' is the preferred initialization method. When making the change, be mindful of axis order changes: https://pyproj4.github.io/pyproj/stable/gotchas.html#axis-order-changes-in-proj-6\n",
      "  return _prepare_from_string(\" \".join(pjargs))\n"
     ]
    }
   ],
   "source": [
    "df = dp.data_preparation('train_data.csv')"
   ]
  },
  {
   "cell_type": "code",
   "execution_count": 4,
   "metadata": {},
   "outputs": [
    {
     "data": {
      "text/plain": [
       "1    113358\n",
       "0     25302\n",
       "Name: target, dtype: int64"
      ]
     },
     "execution_count": 4,
     "metadata": {},
     "output_type": "execute_result"
    }
   ],
   "source": [
    "# double check the target has the ratio as expected\n",
    "df['target'].value_counts()"
   ]
  },
  {
   "cell_type": "code",
   "execution_count": 5,
   "metadata": {},
   "outputs": [],
   "source": [
    "# load in the feature dictionary. These are features to be used by different models\n",
    "feature_dict = dp.load_obj('feature_dict')"
   ]
  },
  {
   "cell_type": "markdown",
   "metadata": {},
   "source": [
    "## Split data into train and test"
   ]
  },
  {
   "cell_type": "code",
   "execution_count": 6,
   "metadata": {},
   "outputs": [],
   "source": [
    "X = df\n",
    "y = df['target']"
   ]
  },
  {
   "cell_type": "code",
   "execution_count": 7,
   "metadata": {},
   "outputs": [],
   "source": [
    "X_train, X_test, y_train, y_test = train_test_split(X, y, test_size=0.33, random_state=42)"
   ]
  },
  {
   "cell_type": "markdown",
   "metadata": {},
   "source": [
    "## Define functions for model training"
   ]
  },
  {
   "cell_type": "code",
   "execution_count": 8,
   "metadata": {},
   "outputs": [],
   "source": [
    "def model_udf(estimator_name,estimator,parameters,X,y):\n",
    "    '''\n",
    "    Return a fitted model on the X and y\n",
    "    estimator name : string for the name of the estimator step in the pipeline\n",
    "    estimator : sklearn estimator e.g. KNeighborsClassifier\n",
    "    parameters : dictionary, parameter grid for Grid Search\n",
    "    '''\n",
    "#     steps = [('imputation', SimpleImputer(missing_values=np.nan, strategy='median')),\n",
    "#              ('scaler',StandardScaler()),\n",
    "#              ('onehot', OneHotEncoder(handle_unknown='ignore')),\n",
    "#             (estimator_name, estimator)]\n",
    "\n",
    "#     pipe = Pipeline(steps)\n",
    "\n",
    "    numeric_features = list(X._get_numeric_data().columns)\n",
    "    numeric_transformer = Pipeline(steps=[\n",
    "        ('imputer', SimpleImputer(strategy='median')),\n",
    "        ('scaler', StandardScaler())])\n",
    "\n",
    "    categorical_features = list(set(X.columns) - set(X._get_numeric_data().columns))\n",
    "    categorical_transformer = Pipeline(steps=[\n",
    "        ('imputer', SimpleImputer(strategy='constant', fill_value='missing')),\n",
    "        ('onehot', OneHotEncoder(handle_unknown='ignore'))])\n",
    "\n",
    "    preprocessor = ColumnTransformer(\n",
    "        transformers=[\n",
    "            ('num', numeric_transformer, numeric_features),\n",
    "            ('cat', categorical_transformer, categorical_features)])\n",
    "\n",
    "    # Append classifier to preprocessing pipeline.\n",
    "    # Now we have a full prediction pipeline.\n",
    "    pipe = Pipeline(steps=[('preprocessor', preprocessor),\n",
    "                          (estimator_name, estimator)])\n",
    "\n",
    "\n",
    "    parameters = parameters\n",
    "\n",
    "    clf = GridSearchCV(pipe, param_grid=parameters,return_train_score=True,scoring='roc_auc',verbose=3,cv=3,refit=True)\n",
    "\n",
    "    clf.fit(X,y)\n",
    "    \n",
    "    return clf"
   ]
  },
  {
   "cell_type": "code",
   "execution_count": 39,
   "metadata": {},
   "outputs": [],
   "source": [
    "def plot_cross_val(clf,col,log=False):\n",
    "    '''\n",
    "    This function plots the score for a GridSearchCV object at different parameter values (col) for train and test set.\n",
    "    \n",
    "    Parameters:\n",
    "    clf: sklearn.model_selection._search.GridSearchCV. Trained GridSearchCV object\n",
    "    col: column that contains the parameters trained\n",
    "    log: boolean. whether to plot the parameters on log scale. Useful for regularisation on a log scale\n",
    "    \n",
    "    Returns:\n",
    "    matplotlib plot\n",
    "    \n",
    "    '''\n",
    "    \n",
    "    fig, ax = plt.subplots()\n",
    "    cv_results = pd.DataFrame(clf.cv_results_)[[col,'params','mean_score_time','mean_train_score','mean_test_score']]    \n",
    "    ax.plot(cv_results[col],cv_results['mean_test_score'],label='mean_test_score')\n",
    "    ax.plot(cv_results[col],cv_results['mean_train_score'],label='mean_train_score')\n",
    "    ax.set_xlabel(col)\n",
    "    ax.set_ylabel('score')\n",
    "    ax.legend()\n",
    "    if log == True:\n",
    "        ax.set_xscale('log')\n",
    "    return cv_results"
   ]
  },
  {
   "cell_type": "code",
   "execution_count": 10,
   "metadata": {},
   "outputs": [],
   "source": [
    "def print_best_model(clf):\n",
    "    '''\n",
    "    Print the best models score and parameter from GridSearchCV\n",
    "    '''\n",
    "    print(f'The Grid Search best score is {clf.best_score_:0.1%} and the best parameters are {clf.best_params_}')\n"
   ]
  },
  {
   "cell_type": "code",
   "execution_count": 40,
   "metadata": {},
   "outputs": [],
   "source": [
    "def get_best_model(clf):\n",
    "    '''\n",
    "    Get the model that was trained for the best estimator. Because the estimator is a pipeline, we need to extract the trained model to get coefficients etc\n",
    "    '''\n",
    "    return clf.best_estimator_.steps[1][1]"
   ]
  },
  {
   "cell_type": "code",
   "execution_count": 41,
   "metadata": {},
   "outputs": [],
   "source": [
    "def plot_auc(model,features):\n",
    "    '''\n",
    "    Plot the ROC and get AUC for model using the X_test and y_test global variables\n",
    "    '''\n",
    "    \n",
    "    from sklearn import metrics\n",
    "    y_pred_proba = model.predict_proba(X_test[features])[::,1]\n",
    "    fpr, tpr, _ = metrics.roc_curve(y_test,  y_pred_proba)\n",
    "    auc = metrics.roc_auc_score(y_test, y_pred_proba)\n",
    "    plt.plot(fpr,tpr,label=\"data 1, auc=\"+str(auc))\n",
    "    plt.legend(loc=4)\n",
    "    plt.show()"
   ]
  },
  {
   "cell_type": "markdown",
   "metadata": {},
   "source": [
    "## KNN\n",
    "Train a KNN model, using features of longitude and latitude.\n",
    "The logic here is that targets might be near each other"
   ]
  },
  {
   "cell_type": "code",
   "execution_count": 13,
   "metadata": {},
   "outputs": [
    {
     "name": "stdout",
     "output_type": "stream",
     "text": [
      "Fitting 3 folds for each of 6 candidates, totalling 18 fits\n",
      "[CV] knn__n_neighbors=10 .............................................\n"
     ]
    },
    {
     "name": "stderr",
     "output_type": "stream",
     "text": [
      "[Parallel(n_jobs=1)]: Using backend SequentialBackend with 1 concurrent workers.\n"
     ]
    },
    {
     "name": "stdout",
     "output_type": "stream",
     "text": [
      "[CV]  knn__n_neighbors=10, score=(train=0.803, test=0.668), total=   1.4s\n",
      "[CV] knn__n_neighbors=10 .............................................\n"
     ]
    },
    {
     "name": "stderr",
     "output_type": "stream",
     "text": [
      "[Parallel(n_jobs=1)]: Done   1 out of   1 | elapsed:    2.9s remaining:    0.0s\n"
     ]
    },
    {
     "name": "stdout",
     "output_type": "stream",
     "text": [
      "[CV]  knn__n_neighbors=10, score=(train=0.806, test=0.665), total=   1.3s\n",
      "[CV] knn__n_neighbors=10 .............................................\n"
     ]
    },
    {
     "name": "stderr",
     "output_type": "stream",
     "text": [
      "[Parallel(n_jobs=1)]: Done   2 out of   2 | elapsed:    5.6s remaining:    0.0s\n"
     ]
    },
    {
     "name": "stdout",
     "output_type": "stream",
     "text": [
      "[CV]  knn__n_neighbors=10, score=(train=0.807, test=0.663), total=   1.3s\n",
      "[CV] knn__n_neighbors=20 .............................................\n",
      "[CV]  knn__n_neighbors=20, score=(train=0.766, test=0.691), total=   1.5s\n",
      "[CV] knn__n_neighbors=20 .............................................\n",
      "[CV]  knn__n_neighbors=20, score=(train=0.770, test=0.683), total=   1.5s\n",
      "[CV] knn__n_neighbors=20 .............................................\n",
      "[CV]  knn__n_neighbors=20, score=(train=0.770, test=0.684), total=   1.5s\n",
      "[CV] knn__n_neighbors=30 .............................................\n",
      "[CV]  knn__n_neighbors=30, score=(train=0.752, test=0.699), total=   1.8s\n",
      "[CV] knn__n_neighbors=30 .............................................\n",
      "[CV]  knn__n_neighbors=30, score=(train=0.756, test=0.692), total=   1.6s\n",
      "[CV] knn__n_neighbors=30 .............................................\n",
      "[CV]  knn__n_neighbors=30, score=(train=0.756, test=0.695), total=   1.6s\n",
      "[CV] knn__n_neighbors=40 .............................................\n",
      "[CV]  knn__n_neighbors=40, score=(train=0.745, test=0.705), total=   1.8s\n",
      "[CV] knn__n_neighbors=40 .............................................\n",
      "[CV]  knn__n_neighbors=40, score=(train=0.747, test=0.697), total=   1.8s\n",
      "[CV] knn__n_neighbors=40 .............................................\n",
      "[CV]  knn__n_neighbors=40, score=(train=0.747, test=0.700), total=   1.7s\n",
      "[CV] knn__n_neighbors=50 .............................................\n",
      "[CV]  knn__n_neighbors=50, score=(train=0.740, test=0.707), total=   1.9s\n",
      "[CV] knn__n_neighbors=50 .............................................\n",
      "[CV]  knn__n_neighbors=50, score=(train=0.743, test=0.700), total=   1.9s\n",
      "[CV] knn__n_neighbors=50 .............................................\n",
      "[CV]  knn__n_neighbors=50, score=(train=0.742, test=0.702), total=   1.9s\n",
      "[CV] knn__n_neighbors=60 .............................................\n",
      "[CV]  knn__n_neighbors=60, score=(train=0.736, test=0.710), total=   2.1s\n",
      "[CV] knn__n_neighbors=60 .............................................\n",
      "[CV]  knn__n_neighbors=60, score=(train=0.739, test=0.701), total=   2.0s\n",
      "[CV] knn__n_neighbors=60 .............................................\n",
      "[CV]  knn__n_neighbors=60, score=(train=0.737, test=0.705), total=   2.0s\n"
     ]
    },
    {
     "name": "stderr",
     "output_type": "stream",
     "text": [
      "[Parallel(n_jobs=1)]: Done  18 out of  18 | elapsed:  1.2min finished\n"
     ]
    }
   ],
   "source": [
    "\n",
    "clf_knn = model_udf(\n",
    "    'knn'\n",
    "    ,KNeighborsClassifier()\n",
    "    ,parameters = {'knn__n_neighbors':np.arange(10,70,10)},X=X_train[feature_dict['knn']]\n",
    "        ,y=y_train\n",
    ")"
   ]
  },
  {
   "cell_type": "code",
   "execution_count": 14,
   "metadata": {},
   "outputs": [
    {
     "name": "stdout",
     "output_type": "stream",
     "text": [
      "The Grid Search best score is 70.5% and the best parameters are {'knn__n_neighbors': 60}\n"
     ]
    }
   ],
   "source": [
    "print_best_model(clf_knn)"
   ]
  },
  {
   "cell_type": "markdown",
   "metadata": {},
   "source": [
    "We can see that with fewer neighbours the model was overfitting the train set and underfitting the set. As we increased the model parameter it started to fit both equally"
   ]
  },
  {
   "cell_type": "code",
   "execution_count": 15,
   "metadata": {},
   "outputs": [
    {
     "data": {
      "image/png": "[encoded data removed]",
      "text/plain": [
       "<Figure size 432x288 with 1 Axes>"
      ]
     },
     "metadata": {
      "needs_background": "light"
     },
     "output_type": "display_data"
    }
   ],
   "source": [
    "cv_results_knn = plot_cross_val(clf_knn,'param_knn__n_neighbors')"
   ]
  },
  {
   "cell_type": "markdown",
   "metadata": {},
   "source": [
    "The AUC on test set is 0.7"
   ]
  },
  {
   "cell_type": "code",
   "execution_count": 16,
   "metadata": {},
   "outputs": [
    {
     "data": {
      "image/png": "[encoded data removed]",
      "text/plain": [
       "<Figure size 432x288 with 1 Axes>"
      ]
     },
     "metadata": {
      "needs_background": "light"
     },
     "output_type": "display_data"
    }
   ],
   "source": [
    "model_knn = clf_knn.best_estimator_\n",
    "\n",
    "plot_auc(model_knn,feature_dict['knn'])"
   ]
  },
  {
   "cell_type": "markdown",
   "metadata": {},
   "source": [
    "## XGBoost"
   ]
  },
  {
   "cell_type": "markdown",
   "metadata": {},
   "source": [
    "Here we will train XGBoost tuning the learning rate"
   ]
  },
  {
   "cell_type": "code",
   "execution_count": 17,
   "metadata": {},
   "outputs": [
    {
     "name": "stdout",
     "output_type": "stream",
     "text": [
      "Fitting 3 folds for each of 5 candidates, totalling 15 fits\n",
      "[CV] xgb__eta=0.05 ...................................................\n"
     ]
    },
    {
     "name": "stderr",
     "output_type": "stream",
     "text": [
      "[Parallel(n_jobs=1)]: Using backend SequentialBackend with 1 concurrent workers.\n"
     ]
    },
    {
     "name": "stdout",
     "output_type": "stream",
     "text": [
      "[CV] ... xgb__eta=0.05, score=(train=0.735, test=0.732), total=   2.9s\n",
      "[CV] xgb__eta=0.05 ...................................................\n"
     ]
    },
    {
     "name": "stderr",
     "output_type": "stream",
     "text": [
      "[Parallel(n_jobs=1)]: Done   1 out of   1 | elapsed:    3.0s remaining:    0.0s\n"
     ]
    },
    {
     "name": "stdout",
     "output_type": "stream",
     "text": [
      "[CV] ... xgb__eta=0.05, score=(train=0.739, test=0.722), total=   2.8s\n",
      "[CV] xgb__eta=0.05 ...................................................\n"
     ]
    },
    {
     "name": "stderr",
     "output_type": "stream",
     "text": [
      "[Parallel(n_jobs=1)]: Done   2 out of   2 | elapsed:    6.0s remaining:    0.0s\n"
     ]
    },
    {
     "name": "stdout",
     "output_type": "stream",
     "text": [
      "[CV] ... xgb__eta=0.05, score=(train=0.735, test=0.732), total=   2.7s\n",
      "[CV] xgb__eta=0.1 ....................................................\n",
      "[CV] .... xgb__eta=0.1, score=(train=0.739, test=0.732), total=   2.7s\n",
      "[CV] xgb__eta=0.1 ....................................................\n",
      "[CV] .... xgb__eta=0.1, score=(train=0.742, test=0.722), total=   2.7s\n",
      "[CV] xgb__eta=0.1 ....................................................\n",
      "[CV] .... xgb__eta=0.1, score=(train=0.739, test=0.731), total=   2.8s\n",
      "[CV] xgb__eta=0.3 ....................................................\n",
      "[CV] .... xgb__eta=0.3, score=(train=0.744, test=0.727), total=   2.7s\n",
      "[CV] xgb__eta=0.3 ....................................................\n",
      "[CV] .... xgb__eta=0.3, score=(train=0.747, test=0.719), total=   2.6s\n",
      "[CV] xgb__eta=0.3 ....................................................\n",
      "[CV] .... xgb__eta=0.3, score=(train=0.744, test=0.728), total=   2.7s\n",
      "[CV] xgb__eta=0.5 ....................................................\n",
      "[CV] .... xgb__eta=0.5, score=(train=0.746, test=0.726), total=   2.6s\n",
      "[CV] xgb__eta=0.5 ....................................................\n",
      "[CV] .... xgb__eta=0.5, score=(train=0.749, test=0.717), total=   2.7s\n",
      "[CV] xgb__eta=0.5 ....................................................\n",
      "[CV] .... xgb__eta=0.5, score=(train=0.746, test=0.726), total=   2.8s\n",
      "[CV] xgb__eta=0.7 ....................................................\n",
      "[CV] .... xgb__eta=0.7, score=(train=0.748, test=0.725), total=   2.6s\n",
      "[CV] xgb__eta=0.7 ....................................................\n",
      "[CV] .... xgb__eta=0.7, score=(train=0.750, test=0.716), total=   2.7s\n",
      "[CV] xgb__eta=0.7 ....................................................\n",
      "[CV] .... xgb__eta=0.7, score=(train=0.747, test=0.725), total=   2.7s\n"
     ]
    },
    {
     "name": "stderr",
     "output_type": "stream",
     "text": [
      "[Parallel(n_jobs=1)]: Done  15 out of  15 | elapsed:   43.0s finished\n"
     ]
    }
   ],
   "source": [
    "\n",
    "clf_xgb = model_udf(\n",
    "    'xgb'\n",
    "    ,XGBClassifier()\n",
    "    ,parameters = {'xgb__eta':[0.05,0.1,0.3,0.5,0.7]},X=X_train[feature_dict['cleaned']]\n",
    "        ,y=y_train\n",
    ")"
   ]
  },
  {
   "cell_type": "markdown",
   "metadata": {},
   "source": [
    "A smaller learning rate gave the best results"
   ]
  },
  {
   "cell_type": "code",
   "execution_count": 18,
   "metadata": {},
   "outputs": [
    {
     "name": "stdout",
     "output_type": "stream",
     "text": [
      "The Grid Search best score is 72.9% and the best parameters are {'xgb__eta': 0.05}\n"
     ]
    }
   ],
   "source": [
    "print_best_model(clf_xgb)"
   ]
  },
  {
   "cell_type": "markdown",
   "metadata": {},
   "source": [
    "We can see with a larger learning rate that the model was overfitting hte train set and as we reduced the learning rate it fit both train and set more equally"
   ]
  },
  {
   "cell_type": "code",
   "execution_count": 19,
   "metadata": {},
   "outputs": [
    {
     "data": {
      "text/html": [
       "<div>\n",
       "<style scoped>\n",
       "    .dataframe tbody tr th:only-of-type {\n",
       "        vertical-align: middle;\n",
       "    }\n",
       "\n",
       "    .dataframe tbody tr th {\n",
       "        vertical-align: top;\n",
       "    }\n",
       "\n",
       "    .dataframe thead th {\n",
       "        text-align: right;\n",
       "    }\n",
       "</style>\n",
       "<table border=\"1\" class=\"dataframe\">\n",
       "  <thead>\n",
       "    <tr style=\"text-align: right;\">\n",
       "      <th></th>\n",
       "      <th>param_xgb__eta</th>\n",
       "      <th>params</th>\n",
       "      <th>mean_score_time</th>\n",
       "      <th>mean_train_score</th>\n",
       "      <th>mean_test_score</th>\n",
       "    </tr>\n",
       "  </thead>\n",
       "  <tbody>\n",
       "    <tr>\n",
       "      <th>0</th>\n",
       "      <td>0.05</td>\n",
       "      <td>{'xgb__eta': 0.05}</td>\n",
       "      <td>0.078942</td>\n",
       "      <td>0.736341</td>\n",
       "      <td>0.728758</td>\n",
       "    </tr>\n",
       "    <tr>\n",
       "      <th>1</th>\n",
       "      <td>0.1</td>\n",
       "      <td>{'xgb__eta': 0.1}</td>\n",
       "      <td>0.080006</td>\n",
       "      <td>0.739752</td>\n",
       "      <td>0.728391</td>\n",
       "    </tr>\n",
       "    <tr>\n",
       "      <th>2</th>\n",
       "      <td>0.3</td>\n",
       "      <td>{'xgb__eta': 0.3}</td>\n",
       "      <td>0.076922</td>\n",
       "      <td>0.744918</td>\n",
       "      <td>0.724761</td>\n",
       "    </tr>\n",
       "    <tr>\n",
       "      <th>3</th>\n",
       "      <td>0.5</td>\n",
       "      <td>{'xgb__eta': 0.5}</td>\n",
       "      <td>0.076512</td>\n",
       "      <td>0.746965</td>\n",
       "      <td>0.722970</td>\n",
       "    </tr>\n",
       "    <tr>\n",
       "      <th>4</th>\n",
       "      <td>0.7</td>\n",
       "      <td>{'xgb__eta': 0.7}</td>\n",
       "      <td>0.080641</td>\n",
       "      <td>0.748375</td>\n",
       "      <td>0.722069</td>\n",
       "    </tr>\n",
       "  </tbody>\n",
       "</table>\n",
       "</div>"
      ],
      "text/plain": [
       "  param_xgb__eta              params  mean_score_time  mean_train_score  \\\n",
       "0           0.05  {'xgb__eta': 0.05}         0.078942          0.736341   \n",
       "1            0.1   {'xgb__eta': 0.1}         0.080006          0.739752   \n",
       "2            0.3   {'xgb__eta': 0.3}         0.076922          0.744918   \n",
       "3            0.5   {'xgb__eta': 0.5}         0.076512          0.746965   \n",
       "4            0.7   {'xgb__eta': 0.7}         0.080641          0.748375   \n",
       "\n",
       "   mean_test_score  \n",
       "0         0.728758  \n",
       "1         0.728391  \n",
       "2         0.724761  \n",
       "3         0.722970  \n",
       "4         0.722069  "
      ]
     },
     "execution_count": 19,
     "metadata": {},
     "output_type": "execute_result"
    },
    {
     "data": {
      "image/png": "[encoded data removed]",
      "text/plain": [
       "<Figure size 432x288 with 1 Axes>"
      ]
     },
     "metadata": {
      "needs_background": "light"
     },
     "output_type": "display_data"
    }
   ],
   "source": [
    "plot_cross_val(clf_xgb,'param_xgb__eta')"
   ]
  },
  {
   "cell_type": "code",
   "execution_count": 20,
   "metadata": {},
   "outputs": [
    {
     "data": {
      "text/plain": [
       "<AxesSubplot:title={'center':'Feature importance'}, xlabel='F score', ylabel='Features'>"
      ]
     },
     "execution_count": 20,
     "metadata": {},
     "output_type": "execute_result"
    },
    {
     "data": {
      "image/png": "[encoded data removed]",
      "text/plain": [
       "<Figure size 432x288 with 1 Axes>"
      ]
     },
     "metadata": {
      "needs_background": "light"
     },
     "output_type": "display_data"
    }
   ],
   "source": [
    "from xgboost import plot_importance\n",
    "model_xgb = get_best_model(clf_xgb)\n",
    "plot_importance(model_xgb)"
   ]
  },
  {
   "cell_type": "code",
   "execution_count": 21,
   "metadata": {},
   "outputs": [
    {
     "data": {
      "text/plain": [
       "[(0, 'night_time'),\n",
       " (1, '15_mins_past_hour'),\n",
       " (2, 'weekday'),\n",
       " (3, 'number_of_casualties_more_than_2'),\n",
       " (4, 'number_of_vehicles_more_than_2'),\n",
       " (5, 'speed_limit_high'),\n",
       " (6, 'police_force_high'),\n",
       " (7, 'accident_severity_high'),\n",
       " (8, '1st_road_class_high'),\n",
       " (9, 'road_type_high'),\n",
       " (10, 'light_conditions_high'),\n",
       " (11, 'weather_high'),\n",
       " (12, 'location_northing_osgr_str1_high'),\n",
       " (13, 'police_force_low'),\n",
       " (14, 'road_type_low'),\n",
       " (15, 'NUTS_ID_low')]"
      ]
     },
     "execution_count": 21,
     "metadata": {},
     "output_type": "execute_result"
    }
   ],
   "source": [
    "list(enumerate(X_train[feature_dict['cleaned']].columns))"
   ]
  },
  {
   "cell_type": "markdown",
   "metadata": {},
   "source": [
    "The AUC is stronger than KNN with a score of 0.73"
   ]
  },
  {
   "cell_type": "code",
   "execution_count": 22,
   "metadata": {},
   "outputs": [
    {
     "data": {
      "image/png": "[encoded data removed]",
      "text/plain": [
       "<Figure size 432x288 with 1 Axes>"
      ]
     },
     "metadata": {
      "needs_background": "light"
     },
     "output_type": "display_data"
    }
   ],
   "source": [
    "model_xgb = clf_xgb.best_estimator_\n",
    "\n",
    "plot_auc(model_xgb,feature_dict['cleaned'])"
   ]
  },
  {
   "cell_type": "markdown",
   "metadata": {},
   "source": [
    "## LogisticRegression\n",
    "We will train a logistic regression binary classification model tuning l2 regularisation. L2 regularisation makes some coefficients close to zero to prevent ovefitting the train set."
   ]
  },
  {
   "cell_type": "code",
   "execution_count": 23,
   "metadata": {},
   "outputs": [
    {
     "name": "stdout",
     "output_type": "stream",
     "text": [
      "Fitting 3 folds for each of 6 candidates, totalling 18 fits\n",
      "[CV] logreg__C=0.01 ..................................................\n"
     ]
    },
    {
     "name": "stderr",
     "output_type": "stream",
     "text": [
      "[Parallel(n_jobs=1)]: Using backend SequentialBackend with 1 concurrent workers.\n"
     ]
    },
    {
     "name": "stdout",
     "output_type": "stream",
     "text": [
      "[CV] .. logreg__C=0.01, score=(train=0.725, test=0.731), total=   0.3s\n",
      "[CV] logreg__C=0.01 ..................................................\n"
     ]
    },
    {
     "name": "stderr",
     "output_type": "stream",
     "text": [
      "[Parallel(n_jobs=1)]: Done   1 out of   1 | elapsed:    0.4s remaining:    0.0s\n"
     ]
    },
    {
     "name": "stdout",
     "output_type": "stream",
     "text": [
      "[CV] .. logreg__C=0.01, score=(train=0.731, test=0.719), total=   0.3s\n",
      "[CV] logreg__C=0.01 ..................................................\n"
     ]
    },
    {
     "name": "stderr",
     "output_type": "stream",
     "text": [
      "[Parallel(n_jobs=1)]: Done   2 out of   2 | elapsed:    0.8s remaining:    0.0s\n"
     ]
    },
    {
     "name": "stdout",
     "output_type": "stream",
     "text": [
      "[CV] .. logreg__C=0.01, score=(train=0.726, test=0.730), total=   0.3s\n",
      "[CV] logreg__C=0.1 ...................................................\n",
      "[CV] ... logreg__C=0.1, score=(train=0.725, test=0.731), total=   0.3s\n",
      "[CV] logreg__C=0.1 ...................................................\n",
      "[CV] ... logreg__C=0.1, score=(train=0.731, test=0.719), total=   0.3s\n",
      "[CV] logreg__C=0.1 ...................................................\n",
      "[CV] ... logreg__C=0.1, score=(train=0.726, test=0.730), total=   0.3s\n",
      "[CV] logreg__C=1 .....................................................\n",
      "[CV] ..... logreg__C=1, score=(train=0.725, test=0.731), total=   0.3s\n",
      "[CV] logreg__C=1 .....................................................\n",
      "[CV] ..... logreg__C=1, score=(train=0.731, test=0.719), total=   0.3s\n",
      "[CV] logreg__C=1 .....................................................\n",
      "[CV] ..... logreg__C=1, score=(train=0.726, test=0.730), total=   0.3s\n",
      "[CV] logreg__C=10 ....................................................\n",
      "[CV] .... logreg__C=10, score=(train=0.725, test=0.731), total=   0.3s\n",
      "[CV] logreg__C=10 ....................................................\n",
      "[CV] .... logreg__C=10, score=(train=0.731, test=0.719), total=   0.3s\n",
      "[CV] logreg__C=10 ....................................................\n",
      "[CV] .... logreg__C=10, score=(train=0.726, test=0.730), total=   0.3s\n",
      "[CV] logreg__C=100 ...................................................\n",
      "[CV] ... logreg__C=100, score=(train=0.725, test=0.731), total=   0.3s\n",
      "[CV] logreg__C=100 ...................................................\n",
      "[CV] ... logreg__C=100, score=(train=0.731, test=0.719), total=   0.3s\n",
      "[CV] logreg__C=100 ...................................................\n",
      "[CV] ... logreg__C=100, score=(train=0.726, test=0.730), total=   0.3s\n",
      "[CV] logreg__C=1000 ..................................................\n",
      "[CV] .. logreg__C=1000, score=(train=0.725, test=0.731), total=   0.3s\n",
      "[CV] logreg__C=1000 ..................................................\n",
      "[CV] .. logreg__C=1000, score=(train=0.731, test=0.719), total=   0.3s\n",
      "[CV] logreg__C=1000 ..................................................\n",
      "[CV] .. logreg__C=1000, score=(train=0.726, test=0.730), total=   0.3s\n"
     ]
    },
    {
     "name": "stderr",
     "output_type": "stream",
     "text": [
      "[Parallel(n_jobs=1)]: Done  18 out of  18 | elapsed:    6.9s finished\n"
     ]
    }
   ],
   "source": [
    "\n",
    "clf_logreg = model_udf(\n",
    "    'logreg'\n",
    "    ,LogisticRegression(penalty='l2')\n",
    "    ,parameters = {'logreg__C':[0.01,0.1,1,10,100,1000]},X=X_train[feature_dict['cleaned']]\n",
    "        ,y=y_train\n",
    ")"
   ]
  },
  {
   "cell_type": "code",
   "execution_count": 24,
   "metadata": {},
   "outputs": [
    {
     "name": "stdout",
     "output_type": "stream",
     "text": [
      "The Grid Search best score is 72.7% and the best parameters are {'logreg__C': 10}\n"
     ]
    }
   ],
   "source": [
    "print_best_model(clf_logreg)"
   ]
  },
  {
   "cell_type": "markdown",
   "metadata": {},
   "source": [
    "Changing regularisation did not make much difference to the scores"
   ]
  },
  {
   "cell_type": "code",
   "execution_count": 25,
   "metadata": {},
   "outputs": [
    {
     "data": {
      "text/html": [
       "<div>\n",
       "<style scoped>\n",
       "    .dataframe tbody tr th:only-of-type {\n",
       "        vertical-align: middle;\n",
       "    }\n",
       "\n",
       "    .dataframe tbody tr th {\n",
       "        vertical-align: top;\n",
       "    }\n",
       "\n",
       "    .dataframe thead th {\n",
       "        text-align: right;\n",
       "    }\n",
       "</style>\n",
       "<table border=\"1\" class=\"dataframe\">\n",
       "  <thead>\n",
       "    <tr style=\"text-align: right;\">\n",
       "      <th></th>\n",
       "      <th>param_logreg__C</th>\n",
       "      <th>params</th>\n",
       "      <th>mean_score_time</th>\n",
       "      <th>mean_train_score</th>\n",
       "      <th>mean_test_score</th>\n",
       "    </tr>\n",
       "  </thead>\n",
       "  <tbody>\n",
       "    <tr>\n",
       "      <th>0</th>\n",
       "      <td>0.01</td>\n",
       "      <td>{'logreg__C': 0.01}</td>\n",
       "      <td>0.035335</td>\n",
       "      <td>0.727387</td>\n",
       "      <td>0.726645</td>\n",
       "    </tr>\n",
       "    <tr>\n",
       "      <th>1</th>\n",
       "      <td>0.1</td>\n",
       "      <td>{'logreg__C': 0.1}</td>\n",
       "      <td>0.034418</td>\n",
       "      <td>0.727352</td>\n",
       "      <td>0.726642</td>\n",
       "    </tr>\n",
       "    <tr>\n",
       "      <th>2</th>\n",
       "      <td>1</td>\n",
       "      <td>{'logreg__C': 1}</td>\n",
       "      <td>0.033645</td>\n",
       "      <td>0.727348</td>\n",
       "      <td>0.726653</td>\n",
       "    </tr>\n",
       "    <tr>\n",
       "      <th>3</th>\n",
       "      <td>10</td>\n",
       "      <td>{'logreg__C': 10}</td>\n",
       "      <td>0.034135</td>\n",
       "      <td>0.727349</td>\n",
       "      <td>0.726655</td>\n",
       "    </tr>\n",
       "    <tr>\n",
       "      <th>4</th>\n",
       "      <td>100</td>\n",
       "      <td>{'logreg__C': 100}</td>\n",
       "      <td>0.034920</td>\n",
       "      <td>0.727348</td>\n",
       "      <td>0.726653</td>\n",
       "    </tr>\n",
       "    <tr>\n",
       "      <th>5</th>\n",
       "      <td>1000</td>\n",
       "      <td>{'logreg__C': 1000}</td>\n",
       "      <td>0.038456</td>\n",
       "      <td>0.727349</td>\n",
       "      <td>0.726652</td>\n",
       "    </tr>\n",
       "  </tbody>\n",
       "</table>\n",
       "</div>"
      ],
      "text/plain": [
       "  param_logreg__C               params  mean_score_time  mean_train_score  \\\n",
       "0            0.01  {'logreg__C': 0.01}         0.035335          0.727387   \n",
       "1             0.1   {'logreg__C': 0.1}         0.034418          0.727352   \n",
       "2               1     {'logreg__C': 1}         0.033645          0.727348   \n",
       "3              10    {'logreg__C': 10}         0.034135          0.727349   \n",
       "4             100   {'logreg__C': 100}         0.034920          0.727348   \n",
       "5            1000  {'logreg__C': 1000}         0.038456          0.727349   \n",
       "\n",
       "   mean_test_score  \n",
       "0         0.726645  \n",
       "1         0.726642  \n",
       "2         0.726653  \n",
       "3         0.726655  \n",
       "4         0.726653  \n",
       "5         0.726652  "
      ]
     },
     "execution_count": 25,
     "metadata": {},
     "output_type": "execute_result"
    },
    {
     "data": {
      "image/png": "[encoded data removed]",
      "text/plain": [
       "<Figure size 432x288 with 1 Axes>"
      ]
     },
     "metadata": {
      "needs_background": "light"
     },
     "output_type": "display_data"
    }
   ],
   "source": [
    "plot_cross_val(clf_logreg,'param_logreg__C',log=True)"
   ]
  },
  {
   "cell_type": "markdown",
   "metadata": {},
   "source": [
    "## Plot the coefficients\n",
    "We can see the model learnt patterns as expected i.e. high speed limit, more vehicles, higher accident severity and poor weather conditions increases likelihood"
   ]
  },
  {
   "cell_type": "code",
   "execution_count": 26,
   "metadata": {},
   "outputs": [
    {
     "data": {
      "text/plain": [
       "<AxesSubplot:xlabel='features'>"
      ]
     },
     "execution_count": 26,
     "metadata": {},
     "output_type": "execute_result"
    },
    {
     "data": {
      "image/png": "[encoded data removed]",
      "text/plain": [
       "<Figure size 432x288 with 1 Axes>"
      ]
     },
     "metadata": {
      "needs_background": "light"
     },
     "output_type": "display_data"
    }
   ],
   "source": [
    "model_logreg = get_best_model(clf_logreg)\n",
    "\n",
    "df_coef = pd.DataFrame(zip(X_train[feature_dict['cleaned']].columns, np.transpose(model_logreg.coef_)), columns=['features', 'coef']) \n",
    "\n",
    "\n",
    "df_coef['coef'] = df_coef['coef'].apply(lambda x: x[0])\n",
    "\n",
    "df_coef = df_coef.sort_values(by='coef')\n",
    "\n",
    "df_coef.set_index('features').plot.bar()"
   ]
  },
  {
   "cell_type": "markdown",
   "metadata": {},
   "source": [
    "We have a score of 72.5 on the test set"
   ]
  },
  {
   "cell_type": "code",
   "execution_count": 27,
   "metadata": {},
   "outputs": [
    {
     "data": {
      "image/png": "[encoded data removed]",
      "text/plain": [
       "<Figure size 432x288 with 1 Axes>"
      ]
     },
     "metadata": {
      "needs_background": "light"
     },
     "output_type": "display_data"
    }
   ],
   "source": [
    "model_logreg = clf_logreg.best_estimator_\n",
    "\n",
    "plot_auc(model_logreg,feature_dict['cleaned'])"
   ]
  },
  {
   "cell_type": "markdown",
   "metadata": {},
   "source": [
    "# Make predictions on final test set"
   ]
  },
  {
   "cell_type": "markdown",
   "metadata": {},
   "source": [
    "Prepare the test data"
   ]
  },
  {
   "cell_type": "code",
   "execution_count": 28,
   "metadata": {},
   "outputs": [
    {
     "name": "stdout",
     "output_type": "stream",
     "text": [
      "Police_Force\n",
      "(12303, 32)\n",
      "Accident_Severity\n",
      "(12303, 32)\n",
      "Day_of_Week\n",
      "(12303, 32)\n",
      "Local_Authority_(District)\n",
      "(12303, 32)\n",
      "Local_Authority_(Highway)\n",
      "(12303, 32)\n",
      "1st_Road_Class\n",
      "(12303, 32)\n",
      "Road_Type\n",
      "(12303, 32)\n",
      "Junction_Detail\n",
      "(12303, 32)\n",
      "Junction_Control\n",
      "(12303, 32)\n",
      "2nd_Road_Class\n",
      "(12303, 32)\n",
      "Light_Conditions\n",
      "(12303, 32)\n",
      "Weather\n",
      "(12303, 32)\n",
      "Road_Surface\n",
      "(12303, 32)\n",
      "Special_Conditions_at_Site\n",
      "(12303, 32)\n",
      "Carriageway_Hazards\n",
      "(12303, 32)\n",
      "Urban_Rural\n",
      "(12303, 32)\n",
      "Police_Officer_Attend\n",
      "(12303, 32)\n"
     ]
    },
    {
     "name": "stderr",
     "output_type": "stream",
     "text": [
      "/opt/conda/lib/python3.7/site-packages/pyproj/crs/crs.py:68: FutureWarning: '+init=<authority>:<code>' syntax is deprecated. '<authority>:<code>' is the preferred initialization method. When making the change, be mindful of axis order changes: https://pyproj4.github.io/pyproj/stable/gotchas.html#axis-order-changes-in-proj-6\n",
      "  return _prepare_from_string(\" \".join(pjargs))\n"
     ]
    }
   ],
   "source": [
    "test_df = dp.data_preparation('test_data.csv')"
   ]
  },
  {
   "cell_type": "markdown",
   "metadata": {},
   "source": [
    "Make a probability prediction using the logreg model"
   ]
  },
  {
   "cell_type": "code",
   "execution_count": 30,
   "metadata": {},
   "outputs": [],
   "source": [
    "pred = clf_logreg.predict_proba(test_df[feature_dict['cleaned']])[::,1]"
   ]
  },
  {
   "cell_type": "markdown",
   "metadata": {},
   "source": [
    "The prediction probability mean is what we'd expect of 81%"
   ]
  },
  {
   "cell_type": "code",
   "execution_count": 31,
   "metadata": {},
   "outputs": [
    {
     "data": {
      "text/plain": [
       "0.8136347088052418"
      ]
     },
     "execution_count": 31,
     "metadata": {},
     "output_type": "execute_result"
    }
   ],
   "source": [
    "pred.mean()"
   ]
  },
  {
   "cell_type": "markdown",
   "metadata": {},
   "source": [
    "Generate output"
   ]
  },
  {
   "cell_type": "code",
   "execution_count": 32,
   "metadata": {},
   "outputs": [],
   "source": [
    "output = pd.DataFrame({'accident_index': test_df['accident_index'],'probability_to_attend':pred})"
   ]
  },
  {
   "cell_type": "markdown",
   "metadata": {},
   "source": [
    "Create histogram of predictions. They are distributed around the 80% mark which is as expected as it's the total target rate on train"
   ]
  },
  {
   "cell_type": "code",
   "execution_count": 33,
   "metadata": {},
   "outputs": [
    {
     "data": {
      "text/plain": [
       "<AxesSubplot:>"
      ]
     },
     "execution_count": 33,
     "metadata": {},
     "output_type": "execute_result"
    },
    {
     "data": {
      "image/png": "[encoded data removed]",
      "text/plain": [
       "<Figure size 432x288 with 1 Axes>"
      ]
     },
     "metadata": {
      "needs_background": "light"
     },
     "output_type": "display_data"
    }
   ],
   "source": [
    "output['probability_to_attend'].hist()"
   ]
  },
  {
   "cell_type": "markdown",
   "metadata": {},
   "source": [
    "Isolate IDs with high probability to see if the variables make sense. Picking out one highly score ID, we see that it is a dangerous accident with high severity and casualties/vehicles and poor lighting conditions"
   ]
  },
  {
   "cell_type": "code",
   "execution_count": 34,
   "metadata": {},
   "outputs": [
    {
     "data": {
      "text/plain": [
       "0    201401BS70277\n",
       "1    201401BS70278\n",
       "2    201401BS70279\n",
       "3    201401BS70280\n",
       "4    201401BS70281\n",
       "Name: accident_index, dtype: object"
      ]
     },
     "execution_count": 34,
     "metadata": {},
     "output_type": "execute_result"
    }
   ],
   "source": [
    "output[output['probability_to_attend']<0.99]['accident_index'].head()"
   ]
  },
  {
   "cell_type": "code",
   "execution_count": 35,
   "metadata": {},
   "outputs": [
    {
     "data": {
      "text/html": [
       "<div>\n",
       "<style scoped>\n",
       "    .dataframe tbody tr th:only-of-type {\n",
       "        vertical-align: middle;\n",
       "    }\n",
       "\n",
       "    .dataframe tbody tr th {\n",
       "        vertical-align: top;\n",
       "    }\n",
       "\n",
       "    .dataframe thead th {\n",
       "        text-align: right;\n",
       "    }\n",
       "</style>\n",
       "<table border=\"1\" class=\"dataframe\">\n",
       "  <thead>\n",
       "    <tr style=\"text-align: right;\">\n",
       "      <th></th>\n",
       "      <th>accident_index</th>\n",
       "      <th>night_time</th>\n",
       "      <th>15_mins_past_hour</th>\n",
       "      <th>weekday</th>\n",
       "      <th>number_of_casualties_more_than_2</th>\n",
       "      <th>number_of_vehicles_more_than_2</th>\n",
       "      <th>speed_limit_high</th>\n",
       "      <th>police_force_high</th>\n",
       "      <th>accident_severity_high</th>\n",
       "      <th>1st_road_class_high</th>\n",
       "      <th>road_type_high</th>\n",
       "      <th>light_conditions_high</th>\n",
       "      <th>weather_high</th>\n",
       "      <th>location_northing_osgr_str1_high</th>\n",
       "      <th>police_force_low</th>\n",
       "      <th>road_type_low</th>\n",
       "      <th>NUTS_ID_low</th>\n",
       "    </tr>\n",
       "  </thead>\n",
       "  <tbody>\n",
       "    <tr>\n",
       "      <th>2396</th>\n",
       "      <td>201404CA14085</td>\n",
       "      <td>0</td>\n",
       "      <td>0</td>\n",
       "      <td>0</td>\n",
       "      <td>1</td>\n",
       "      <td>1</td>\n",
       "      <td>0</td>\n",
       "      <td>1</td>\n",
       "      <td>1</td>\n",
       "      <td>0</td>\n",
       "      <td>0</td>\n",
       "      <td>1</td>\n",
       "      <td>0</td>\n",
       "      <td>1</td>\n",
       "      <td>0</td>\n",
       "      <td>0</td>\n",
       "      <td>0</td>\n",
       "    </tr>\n",
       "  </tbody>\n",
       "</table>\n",
       "</div>"
      ],
      "text/plain": [
       "     accident_index  night_time  15_mins_past_hour  weekday  \\\n",
       "2396  201404CA14085           0                  0        0   \n",
       "\n",
       "      number_of_casualties_more_than_2  number_of_vehicles_more_than_2  \\\n",
       "2396                                 1                               1   \n",
       "\n",
       "      speed_limit_high  police_force_high  accident_severity_high  \\\n",
       "2396                 0                  1                       1   \n",
       "\n",
       "      1st_road_class_high  road_type_high  light_conditions_high  \\\n",
       "2396                    0               0                      1   \n",
       "\n",
       "      weather_high  location_northing_osgr_str1_high  police_force_low  \\\n",
       "2396             0                                 1                 0   \n",
       "\n",
       "      road_type_low  NUTS_ID_low  \n",
       "2396              0            0  "
      ]
     },
     "execution_count": 35,
     "metadata": {},
     "output_type": "execute_result"
    }
   ],
   "source": [
    "test_df[['accident_index']+feature_dict['cleaned']].query('accident_index==\"201404CA14085\"')"
   ]
  },
  {
   "cell_type": "markdown",
   "metadata": {},
   "source": [
    "Save output as csv"
   ]
  },
  {
   "cell_type": "code",
   "execution_count": 36,
   "metadata": {},
   "outputs": [],
   "source": [
    "output.to_csv('test_output.csv',index=False)"
   ]
  },
  {
   "cell_type": "markdown",
   "metadata": {},
   "source": [
    "# Report"
   ]
  },
  {
   "cell_type": "markdown",
   "metadata": {},
   "source": [
    "a. What was the approach taken and why (e.g. algorithms and tools)?  \n",
    "My approach was to explore the data and see if i could engineer useful features. For example, i could use the minute value from the time column to see if target was higher by minute.\n",
    "I also looked at whether certain locations had higher target rates. I created substrings of location variables, and visualised on a map to see if they match areas with higher rates of targets. I then binned categorical variables with similar target rates, to improve interpretability and reduce training time. \n",
    "I started with KNN using longitude and latitude as from my visualisation it showed that there were clusters of the target, so my hypothesis was targets occur near each other.\n",
    "\n",
    "b. Approaches that you tried and did not work.   \n",
    "KNN did not work well of the three models, this could be because location is not the main factor.\n",
    "\n",
    "c. What were the main challenges?  \n",
    "Finding variables which have give a strong signal for police officers attending.  \n",
    "The variables being IDs was difficult at first but made easier when I got the lookup tables. The challenge from that was then joining to the data, as column names weren't consistent  \n",
    "As there were so many variables, it was a challenge to find the most important factors and visualise in one go. I opted for finding low cardinality variables and visualising those\n",
    "\n",
    "\n",
    "d. What insight did you gain from working with the data?  \n",
    "The higher the speed limit, the more likely a police officer will attend  \n",
    "Some police forces are more likely to attend accidents such as south wales and tayside. the met police is the most common police force  \n",
    "The more severe an accident the more likely a police officer will attend  \n",
    "Police Officers have a higher chance of attending a motorway/dual carriageway  \n",
    "No lighting/night time has a higher target rate, perhaps because it's more dangerous  \n",
    "Police officers are more likely to attend in wet/damp conditions vs dry  \n",
    "Police officers are more likely to attend in a rural area  (possibly because speed is higher as these two variables correlate)\n",
    "\n",
    "\n",
    "e. How useful is the model?  \n",
    "The model is useful in driving insights to what scenarios police officers attend accidents. e.g. we can see it's more likely on high speed roads. We can understand how to reduce the burden on police by making high speed roads safer.\n",
    "\n",
    "f. What might you do differently if you had more time/resource?  \n",
    "I would reduce repeatability in my code (however there's a trade off that having functions/modules makes code difficult to follow), and add more commenting in my functions. Also reduce hardcoding as much as possible.    \n",
    "Perhaps would not bin categories at such a high level, and have some categorical variables dummified instead so the model can understand some categories drive higher likelihood than others  \n",
    "I could optimise more hyperparameters on the models with more time.  \n",
    "I would add logging to my dataprep function so we can understand what's happening in the background\n",
    "\n",
    "g. What other data sources you would have used to enhance your model.   \n",
    "perhaps historic data on the locations to see how severe the area is. police might be more likely to attend if it historically has severe accidents\n"
   ]
  }
 ],
 "metadata": {
  "environment": {
   "name": "common-cpu.m55",
   "type": "gcloud",
   "uri": "gcr.io/deeplearning-platform-release/base-cpu:m55"
  },
  "kernelspec": {
   "display_name": "Python 3",
   "language": "python",
   "name": "python3"
  },
  "language_info": {
   "codemirror_mode": {
    "name": "ipython",
    "version": 3
   },
   "file_extension": ".py",
   "mimetype": "text/x-python",
   "name": "python",
   "nbconvert_exporter": "python",
   "pygments_lexer": "ipython3",
   "version": "3.7.8"
  }
 },
 "nbformat": 4,
 "nbformat_minor": 4
}
